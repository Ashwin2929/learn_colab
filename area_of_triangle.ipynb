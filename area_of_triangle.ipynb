{
  "nbformat": 4,
  "nbformat_minor": 0,
  "metadata": {
    "colab": {
      "provenance": [],
      "authorship_tag": "ABX9TyMbQbtfjrQxy5M2DYofgqWi",
      "include_colab_link": true
    },
    "kernelspec": {
      "name": "python3",
      "display_name": "Python 3"
    },
    "language_info": {
      "name": "python"
    }
  },
  "cells": [
    {
      "cell_type": "markdown",
      "metadata": {
        "id": "view-in-github",
        "colab_type": "text"
      },
      "source": [
        "<a href=\"https://colab.research.google.com/github/Ashwin2929/learn_colab/blob/master/area_of_triangle.ipynb\" target=\"_parent\"><img src=\"https://colab.research.google.com/assets/colab-badge.svg\" alt=\"Open In Colab\"/></a>"
      ]
    },
    {
      "cell_type": "code",
      "execution_count": 17,
      "metadata": {
        "colab": {
          "base_uri": "https://localhost:8080/"
        },
        "id": "4sx0prHQPzvu",
        "outputId": "f2a0724f-840b-4790-eb9b-3adfadb09ffd"
      },
      "outputs": [
        {
          "output_type": "stream",
          "name": "stdout",
          "text": [
            "Enter base value: 2\n",
            "Enter height value: 9\n",
            "Area of triangle with base of 2.000 and height of 9.000 is 9.000\n",
            "Area of with base 2.0 and height 9.0 is 9.0\n"
          ]
        }
      ],
      "source": [
        "#Program to find the area of a triangle\n",
        "base = float(input(\"Enter base value: \"))\n",
        "height = float(input(\"Enter height value: \"))\n",
        "area_of_triangle = (base/2)*height\n",
        "print(\"Area of triangle with base of %0.3f and height of %0.3f is %0.3f\"%(base, height, area_of_triangle))\n",
        "print(\"Area of with base {0} and height {1} is {2}\".format(base, height, area_of_triangle))"
      ]
    }
  ]
}