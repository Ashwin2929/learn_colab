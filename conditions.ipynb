{
  "nbformat": 4,
  "nbformat_minor": 0,
  "metadata": {
    "colab": {
      "provenance": [],
      "authorship_tag": "ABX9TyP4zdaK69BrYSqo3QWbRmKb",
      "include_colab_link": true
    },
    "kernelspec": {
      "name": "python3",
      "display_name": "Python 3"
    },
    "language_info": {
      "name": "python"
    }
  },
  "cells": [
    {
      "cell_type": "markdown",
      "metadata": {
        "id": "view-in-github",
        "colab_type": "text"
      },
      "source": [
        "<a href=\"https://colab.research.google.com/github/Ashwin2929/learn_colab/blob/master/conditions.ipynb\" target=\"_parent\"><img src=\"https://colab.research.google.com/assets/colab-badge.svg\" alt=\"Open In Colab\"/></a>"
      ]
    },
    {
      "cell_type": "code",
      "execution_count": 1,
      "metadata": {
        "colab": {
          "base_uri": "https://localhost:8080/"
        },
        "id": "cBmSCRg6l9Tv",
        "outputId": "bdfc0718-5b5b-45a6-9718-f0d144502fbc"
      },
      "outputs": [
        {
          "output_type": "stream",
          "name": "stdout",
          "text": [
            "True\n"
          ]
        }
      ],
      "source": [
        "x = 29\n",
        "print(x>20)"
      ]
    },
    {
      "cell_type": "code",
      "source": [
        "age = 17\n",
        "if age >= 18:\n",
        "  print(\"you can vote\")\n",
        "else:\n",
        "  print(\"you can not vote\")"
      ],
      "metadata": {
        "colab": {
          "base_uri": "https://localhost:8080/"
        },
        "id": "LHqWXQz6mYxR",
        "outputId": "0d482f85-96fb-48f0-d683-f75a90ae29bf"
      },
      "execution_count": 4,
      "outputs": [
        {
          "output_type": "stream",
          "name": "stdout",
          "text": [
            "you can not vote\n"
          ]
        }
      ]
    },
    {
      "cell_type": "code",
      "source": [
        "age = int(input(\"Enter your age: \"))\n",
        "if age >= 18:\n",
        "  print(\"you can get a driver's license\")\n",
        "elif age < 18 and age >= 15:\n",
        "  print(\"you can get a learner's license\")\n",
        "else:\n",
        "  print(\"your age must be more than 15 to drive\")"
      ],
      "metadata": {
        "colab": {
          "base_uri": "https://localhost:8080/"
        },
        "id": "WcZmR3bxm4X2",
        "outputId": "cc321b83-846b-4207-cd07-d91a3619e299"
      },
      "execution_count": 10,
      "outputs": [
        {
          "output_type": "stream",
          "name": "stdout",
          "text": [
            "Enter your age: 13\n",
            "your age must be more than 15 to drive\n"
          ]
        }
      ]
    },
    {
      "cell_type": "code",
      "source": [
        "i = 1\n",
        "while i < 10:\n",
        "  print(i)\n",
        "  i += 1\n"
      ],
      "metadata": {
        "colab": {
          "base_uri": "https://localhost:8080/"
        },
        "id": "g8i3YQ2Xoaf_",
        "outputId": "2482c118-6caf-49ea-ed16-db8d31f7a809"
      },
      "execution_count": 11,
      "outputs": [
        {
          "output_type": "stream",
          "name": "stdout",
          "text": [
            "1\n",
            "2\n",
            "3\n",
            "4\n",
            "5\n",
            "6\n",
            "7\n",
            "8\n",
            "9\n"
          ]
        }
      ]
    },
    {
      "cell_type": "code",
      "source": [
        "i = 1\n",
        "while i < 13:\n",
        "  i += 1\n",
        "  if i == 9:\n",
        "    break\n",
        "    #continue\n",
        "  print(i)\n"
      ],
      "metadata": {
        "colab": {
          "base_uri": "https://localhost:8080/"
        },
        "id": "t_Vb0JV-oqtc",
        "outputId": "1d507b0d-6201-4dff-ca75-2ce040903373"
      },
      "execution_count": 17,
      "outputs": [
        {
          "output_type": "stream",
          "name": "stdout",
          "text": [
            "2\n",
            "3\n",
            "4\n",
            "5\n",
            "6\n",
            "7\n",
            "8\n"
          ]
        }
      ]
    },
    {
      "cell_type": "code",
      "source": [
        "cars = [\"bmw\", \"mini\", \"ferrari\"]\n",
        "bikes = [\"yamaha\", \"honda\", \"hero\"]\n",
        "for car in cars:\n",
        "  for bike in bikes:\n",
        "    print(car, bike)"
      ],
      "metadata": {
        "colab": {
          "base_uri": "https://localhost:8080/"
        },
        "id": "Jz5CJGc4rlMb",
        "outputId": "c7cbd7e0-5a5a-45be-8b1d-947579431e3f"
      },
      "execution_count": 18,
      "outputs": [
        {
          "output_type": "stream",
          "name": "stdout",
          "text": [
            "bmw yamaha\n",
            "bmw honda\n",
            "bmw hero\n",
            "mini yamaha\n",
            "mini honda\n",
            "mini hero\n",
            "ferrari yamaha\n",
            "ferrari honda\n",
            "ferrari hero\n"
          ]
        }
      ]
    }
  ]
}