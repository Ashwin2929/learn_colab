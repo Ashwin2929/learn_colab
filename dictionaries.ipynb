{
  "nbformat": 4,
  "nbformat_minor": 0,
  "metadata": {
    "colab": {
      "provenance": [],
      "authorship_tag": "ABX9TyPd+EQhgYaShMotul1U54S4",
      "include_colab_link": true
    },
    "kernelspec": {
      "name": "python3",
      "display_name": "Python 3"
    },
    "language_info": {
      "name": "python"
    }
  },
  "cells": [
    {
      "cell_type": "markdown",
      "metadata": {
        "id": "view-in-github",
        "colab_type": "text"
      },
      "source": [
        "<a href=\"https://colab.research.google.com/github/Ashwin2929/learn_colab/blob/master/dictionaries.ipynb\" target=\"_parent\"><img src=\"https://colab.research.google.com/assets/colab-badge.svg\" alt=\"Open In Colab\"/></a>"
      ]
    },
    {
      "cell_type": "code",
      "execution_count": 8,
      "metadata": {
        "colab": {
          "base_uri": "https://localhost:8080/"
        },
        "id": "UGVFKQtjs52G",
        "outputId": "1b38db57-d45a-4c43-e4c8-c59356ff372e"
      },
      "outputs": [
        {
          "output_type": "stream",
          "name": "stdout",
          "text": [
            "{'colour': 'white', 'doors': 4, 'fuel': 'petrol'}\n",
            "colour of my car is white\n",
            "doors on my car is 4\n"
          ]
        }
      ],
      "source": [
        "mycar = {\n",
        "    'colour' : 'white',\n",
        "    'doors' : 4,\n",
        "    'fuel' : 'petrol'\n",
        "}\n",
        "print(mycar)\n",
        "print('colour of my car is ' + mycar['colour'] )\n",
        "print('doors on my car is', mycar['doors'])"
      ]
    },
    {
      "cell_type": "code",
      "source": [
        "mycar.get('fuel')"
      ],
      "metadata": {
        "colab": {
          "base_uri": "https://localhost:8080/",
          "height": 35
        },
        "id": "Ox9-ulMeuOvw",
        "outputId": "f2ab62ba-0d1d-4a03-8b94-f522cb03e9d3"
      },
      "execution_count": 11,
      "outputs": [
        {
          "output_type": "execute_result",
          "data": {
            "text/plain": [
              "'petrol'"
            ],
            "application/vnd.google.colaboratory.intrinsic+json": {
              "type": "string"
            }
          },
          "metadata": {},
          "execution_count": 11
        }
      ]
    },
    {
      "cell_type": "code",
      "source": [
        "mycar['fuel'] = 'diesel'\n",
        "print(mycar)"
      ],
      "metadata": {
        "colab": {
          "base_uri": "https://localhost:8080/"
        },
        "id": "7G4A1gqdug7x",
        "outputId": "34d2010d-761a-45d3-afa3-62ab4d07f541"
      },
      "execution_count": 12,
      "outputs": [
        {
          "output_type": "stream",
          "name": "stdout",
          "text": [
            "{'colour': 'white', 'doors': 4, 'fuel': 'diesel'}\n"
          ]
        }
      ]
    },
    {
      "cell_type": "code",
      "source": [
        "mycar['key'] = 'button'\n",
        "print(mycar)"
      ],
      "metadata": {
        "colab": {
          "base_uri": "https://localhost:8080/"
        },
        "id": "taTcwlYWusG2",
        "outputId": "72e47ae1-d438-4cb5-d4dd-185826a2acc5"
      },
      "execution_count": 13,
      "outputs": [
        {
          "output_type": "stream",
          "name": "stdout",
          "text": [
            "{'colour': 'white', 'doors': 4, 'fuel': 'diesel', 'key': 'button'}\n"
          ]
        }
      ]
    },
    {
      "cell_type": "code",
      "source": [
        "for car in mycar:\n",
        "  print(mycar[car])"
      ],
      "metadata": {
        "colab": {
          "base_uri": "https://localhost:8080/"
        },
        "id": "xSvcWbDZu4Ah",
        "outputId": "c16281ec-4261-4b26-e267-0448f624dd07"
      },
      "execution_count": 15,
      "outputs": [
        {
          "output_type": "stream",
          "name": "stdout",
          "text": [
            "white\n",
            "4\n",
            "diesel\n",
            "button\n"
          ]
        }
      ]
    },
    {
      "cell_type": "code",
      "source": [
        "for car in mycar.values():\n",
        "  print(car)"
      ],
      "metadata": {
        "colab": {
          "base_uri": "https://localhost:8080/"
        },
        "id": "rRonneJevJg-",
        "outputId": "ba7c868b-3102-4efd-e1be-dd859a68d2b5"
      },
      "execution_count": 17,
      "outputs": [
        {
          "output_type": "stream",
          "name": "stdout",
          "text": [
            "white\n",
            "4\n",
            "diesel\n",
            "button\n"
          ]
        }
      ]
    },
    {
      "cell_type": "code",
      "source": [
        "for x, y in mycar.items():\n",
        "  print(x, y)"
      ],
      "metadata": {
        "colab": {
          "base_uri": "https://localhost:8080/"
        },
        "id": "lOeGJrcRvZxH",
        "outputId": "037b61fb-f77e-41b9-b2b2-904e0fab20be"
      },
      "execution_count": 18,
      "outputs": [
        {
          "output_type": "stream",
          "name": "stdout",
          "text": [
            "colour white\n",
            "doors 4\n",
            "fuel diesel\n",
            "key button\n"
          ]
        }
      ]
    },
    {
      "cell_type": "code",
      "source": [
        "mycar.pop('key')\n",
        "print(mycar)"
      ],
      "metadata": {
        "colab": {
          "base_uri": "https://localhost:8080/"
        },
        "id": "vN_ltdiJvpKz",
        "outputId": "f499362e-a351-4047-92dc-9c130f88d1a2"
      },
      "execution_count": 20,
      "outputs": [
        {
          "output_type": "stream",
          "name": "stdout",
          "text": [
            "{'colour': 'white', 'doors': 4, 'fuel': 'diesel'}\n"
          ]
        }
      ]
    }
  ]
}