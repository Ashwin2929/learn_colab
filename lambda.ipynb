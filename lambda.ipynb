{
  "nbformat": 4,
  "nbformat_minor": 0,
  "metadata": {
    "colab": {
      "provenance": [],
      "authorship_tag": "ABX9TyOjSjUX0tn/WB15vxTFyLoa",
      "include_colab_link": true
    },
    "kernelspec": {
      "name": "python3",
      "display_name": "Python 3"
    },
    "language_info": {
      "name": "python"
    }
  },
  "cells": [
    {
      "cell_type": "markdown",
      "metadata": {
        "id": "view-in-github",
        "colab_type": "text"
      },
      "source": [
        "<a href=\"https://colab.research.google.com/github/Ashwin2929/learn_colab/blob/master/lambda.ipynb\" target=\"_parent\"><img src=\"https://colab.research.google.com/assets/colab-badge.svg\" alt=\"Open In Colab\"/></a>"
      ]
    },
    {
      "cell_type": "markdown",
      "source": [
        "syntax\n",
        "\n",
        "lambda arguments:expression"
      ],
      "metadata": {
        "id": "As-jGk4wZCXb"
      }
    },
    {
      "cell_type": "code",
      "source": [
        "x = lambda n : n * 10\n",
        "print(x(29))"
      ],
      "metadata": {
        "colab": {
          "base_uri": "https://localhost:8080/"
        },
        "id": "zS95lmy4ZIXy",
        "outputId": "13884b5c-0537-4b2b-8bef-b0c95dab8255"
      },
      "execution_count": 19,
      "outputs": [
        {
          "output_type": "stream",
          "name": "stdout",
          "text": [
            "290\n"
          ]
        }
      ]
    },
    {
      "cell_type": "code",
      "source": [
        "x = lambda x, y : x ** y\n",
        "print(x(2, 9))"
      ],
      "metadata": {
        "colab": {
          "base_uri": "https://localhost:8080/"
        },
        "id": "_266uDB-ZZ_X",
        "outputId": "50d93717-d3ce-4076-b500-ace7c1628df9"
      },
      "execution_count": 2,
      "outputs": [
        {
          "output_type": "stream",
          "name": "stdout",
          "text": [
            "512\n"
          ]
        }
      ]
    },
    {
      "cell_type": "code",
      "source": [
        "x = lambda p, r, t : (p * r * t)/100\n",
        "print(x(2000, 2, 9))"
      ],
      "metadata": {
        "colab": {
          "base_uri": "https://localhost:8080/"
        },
        "id": "euKaGvxUZm_q",
        "outputId": "7cf5d1c7-5be7-42cb-e1eb-2c4dcc307052"
      },
      "execution_count": 3,
      "outputs": [
        {
          "output_type": "stream",
          "name": "stdout",
          "text": [
            "360.0\n"
          ]
        }
      ]
    },
    {
      "cell_type": "code",
      "source": [
        "def area(r):\n",
        "  return lambda pi : pi * (r ** 2)\n",
        "\n",
        "circle_area = area(2)\n",
        "print(circle_area(3.14))"
      ],
      "metadata": {
        "colab": {
          "base_uri": "https://localhost:8080/"
        },
        "id": "wWxm4aaqaRqo",
        "outputId": "75f6b91a-fdeb-46a0-d25d-8aa4474c94f6"
      },
      "execution_count": 11,
      "outputs": [
        {
          "output_type": "stream",
          "name": "stdout",
          "text": [
            "12.56\n"
          ]
        }
      ]
    },
    {
      "cell_type": "code",
      "source": [
        "def area(pi, r):\n",
        "  return lambda r, pi : pi * (r ** 2)\n",
        "\n",
        "circle_area = area(3.14, 3)\n",
        "print(circle_area(3.14, 3))"
      ],
      "metadata": {
        "colab": {
          "base_uri": "https://localhost:8080/"
        },
        "id": "6rhkjyQ1fUKO",
        "outputId": "58d4c165-f0bb-4107-ef1d-f68d3ab3ed7f"
      },
      "execution_count": 17,
      "outputs": [
        {
          "output_type": "stream",
          "name": "stdout",
          "text": [
            "29.5788\n"
          ]
        }
      ]
    }
  ]
}